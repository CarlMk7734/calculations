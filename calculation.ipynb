{
  "nbformat": 4,
  "nbformat_minor": 0,
  "metadata": {
    "colab": {
      "provenance": [],
      "authorship_tag": "ABX9TyOG1L6jbexVQEk/s6t/2dyS",
      "include_colab_link": true
    },
    "kernelspec": {
      "name": "python3",
      "display_name": "Python 3"
    },
    "language_info": {
      "name": "python"
    }
  },
  "cells": [
    {
      "cell_type": "markdown",
      "metadata": {
        "id": "view-in-github",
        "colab_type": "text"
      },
      "source": [
        "<a href=\"https://colab.research.google.com/github/CarlMk7734/calculations/blob/main/calculation.ipynb\" target=\"_parent\"><img src=\"https://colab.research.google.com/assets/colab-badge.svg\" alt=\"Open In Colab\"/></a>"
      ]
    },
    {
      "cell_type": "code",
      "execution_count": 4,
      "metadata": {
        "colab": {
          "base_uri": "https://localhost:8080/"
        },
        "id": "NqWTPZiofJNE",
        "outputId": "dcdfd238-3324-4de4-a1b9-e3e0e9884349"
      },
      "outputs": [
        {
          "output_type": "stream",
          "name": "stdout",
          "text": [
            "Enter the number of numbers to input: 4\n",
            "Enter a number: 5\n",
            "Enter a number: 10\n",
            "Enter a number: 5\n",
            "Enter a number: 10\n",
            "Original list: [5, 10, 5, 10]\n",
            "Sorted list ascending order: [5, 5, 10, 10]\n",
            "Sorted list descending order: [10, 10, 5, 5]\n",
            "Sum: 30.0\n",
            "Mean: 7.5\n"
          ]
        }
      ],
      "source": [
        "# Function to get the last n numbers in ascending order\n",
        "def get_numbers_in_order(numbers, n):\n",
        "    numbers.sort()\n",
        "    return numbers[-n:]\n",
        "\n",
        "# Ask the user for the number of numbers to input\n",
        "num_count = int(input(\"Enter the number of numbers to input: \"))\n",
        "\n",
        "user_numbers = []  # Use a clear variable name\n",
        "\n",
        "# Input loop\n",
        "for _ in range(num_count):\n",
        "    user_input = int(input(\"Enter a number: \"))  # Use a clear variable name\n",
        "    user_numbers.append(user_input)  # Use a clear variable name\n",
        "\n",
        "# Sorting and calculating mean\n",
        "sorted_numbers = sorted(user_numbers, reverse=True)\n",
        "total_sum = sum(map(float, user_numbers))  # Use a clear variable name\n",
        "\n",
        "mean = total_sum / num_count\n",
        "\n",
        "# Printing results\n",
        "print(\"Original list:\", user_numbers)  # Use a clear variable name\n",
        "largest = get_numbers_in_order(user_numbers, 2)  # Use a clear variable name\n",
        "print(\"Sorted list ascending order:\", user_numbers)  # Use a clear variable name\n",
        "print(\"Sorted list descending order:\", sorted_numbers)\n",
        "print(\"Sum:\", total_sum)\n",
        "print(\"Mean:\", mean)\n"
      ]
    },
    {
      "cell_type": "code",
      "source": [],
      "metadata": {
        "id": "CAFAlC2IjQJ0"
      },
      "execution_count": null,
      "outputs": []
    },
    {
      "cell_type": "markdown",
      "source": [
        "#**Explanation:**\n",
        "\n",
        "##**get_numbers_in_order Function:**\n",
        "\n",
        "This function takes a list of numbers (numbers) and an integer n.\n",
        "It sorts the list in ascending order using numbers.sort().\n",
        "It returns the last n numbers of the sorted list using numbers[-n:].\n",
        "\n",
        "##**Asking the User for Input:**\n",
        "\n",
        "The user is prompted to enter the number of numbers they want to input (num_count).\n",
        "\n",
        "##**Input Loop:**\n",
        "\n",
        "A loop runs num_count times, asking the user to input a number in each iteration. The entered numbers are appended to the list nums.\n",
        "\n",
        "##**Sorting and Calculating Mean:**\n",
        "\n",
        "The list nums is sorted in descending order using sorted_numbers = sorted(nums, reverse=True).\n",
        "The mean is calculated by dividing the sum of the numbers by the count of numbers.\n",
        "\n",
        "##**Printing Results:**\n",
        "\n",
        "The original list is printed using print(\"Original list:\", nums).\n",
        "The function get_numbers_in_order is called to get the two largest numbers (though the result is not used).\n",
        "The sorted list in ascending order is printed (note that it remains unchanged because the sorting was done in descending order).\n",
        "The sorted list in descending order is printed.\n",
        "The mean is printed.\n",
        "Now, the code takes user input for a specified number of numbers, calculates the mean, and prints the original list along with the sorted lists and mean.\n"
      ],
      "metadata": {
        "id": "HkcKAou8fhCU"
      }
    }
  ]
}